{
  "cells": [
    {
      "cell_type": "code",
      "execution_count": null,
      "metadata": {
        "cellView": "form",
        "id": "u_OIwDav0A4W"
      },
      "outputs": [],
      "source": [
        "# Copyright 2024 Google LLC\n",
        "#\n",
        "# Licensed under the Apache License, Version 2.0 (the \"License\");\n",
        "# you may not use this file except in compliance with the License.\n",
        "# You may obtain a copy of the License at\n",
        "#\n",
        "#     https://www.apache.org/licenses/LICENSE-2.0\n",
        "#\n",
        "# Unless required by applicable law or agreed to in writing, software\n",
        "# distributed under the License is distributed on an \"AS IS\" BASIS,\n",
        "# WITHOUT WARRANTIES OR CONDITIONS OF ANY KIND, either express or implied.\n",
        "# See the License for the specific language governing permissions and\n",
        "# limitations under the License."
      ]
    },
    {
      "cell_type": "markdown",
      "metadata": {
        "id": "T_oWMJLg0fLk"
      },
      "source": [
        "# Quick start with Model Garden - Derm Foundation\n",
        "\n",
        "<table><tbody><tr>\n",
        "  <td style=\"text-align: center\">\n",
        "    <a href=\"https://console.cloud.google.com/vertex-ai/colab/import/https:%2F%2Fraw.githubusercontent.com%2Fgoogle-health%2Fderm-foundation%2Fmaster%2Fnotebooks%2Fquick_start_with_model_garden.ipynb\">\n",
        "      <img alt=\"Google Cloud Colab Enterprise logo\" src=\"https://lh3.googleusercontent.com/JmcxdQi-qOpctIvWKgPtrzZdJJK-J3sWE1RsfjZNwshCFgE_9fULcNpuXYTilIR2hjwN\" width=\"32px\"><br> Run in Colab Enterprise\n",
        "    </a>\n",
        "  </td>\n",
        "  <td style=\"text-align: center\">\n",
        "    <a href=\"https://github.com/google-health/derm-foundation/blob/master/notebooks/quick_start_with_model_garden.ipynb\">\n",
        "      <img alt=\"GitHub logo\" src=\"https://cloud.google.com/ml-engine/images/github-logo-32px.png\" width=\"32px\"><br> View on GitHub\n",
        "    </a>\n",
        "  </td>\n",
        "</tr></tbody></table>"
      ]
    },
    {
      "cell_type": "markdown",
      "metadata": {
        "id": "JsEU-DK7DJcv"
      },
      "source": [
        "## Overview\n",
        "\n",
        "This notebook demonstrates deploying Derm Foundation to Vertex AI and generating embeddings from dermatological images using two methods for getting predictions:\n",
        "\n",
        "* **Online predictions** are synchronous requests that are made to the endpoint you deploy from Model Garden and are served with low latency. Online predictions are useful if the embeddings are being used in production. The cost for online prediction is based on the time a virtual machine spends waiting in an active state (an endpoint with a deployed model) to handle prediction requests.\n",
        "\n",
        "* **Batch predictions** are asynchronous requests that are run on a set number of images you specify in a single job. They are made directly to an uploaded model and do not use an endpoint deployed from Model Garden. Batch predictions are useful if you want to generate embeddings for a large number of images for use in training and don't require low latency. The cost for batch prediction is based on the time a virtual machine spends running your prediction job.\n",
        "\n",
        "Vertex AI makes it easy to serve your model and make it accessible to the world. Learn more about [Vertex AI](https://cloud.google.com/vertex-ai/docs/start/introduction-unified-platform).\n",
        "\n",
        "\n",
        "### Objectives\n",
        "\n",
        "- Deploy Derm Foundation to a Vertex AI Endpoint and get online predictions.\n",
        "- Upload Derm Foundation to Vertex AI Model Registry and get batch predictions.\n",
        "\n",
        "### Costs\n",
        "\n",
        "This tutorial uses billable components of Google Cloud:\n",
        "\n",
        "* Vertex AI\n",
        "* Cloud Storage\n",
        "\n",
        "Learn about [Vertex AI pricing](https://cloud.google.com/vertex-ai/pricing), [Cloud Storage pricing](https://cloud.google.com/storage/pricing), and use the [Pricing Calculator](https://cloud.google.com/products/calculator/) to generate a cost estimate based on your projected usage."
      ]
    },
    {
      "cell_type": "markdown",
      "metadata": {
        "id": "Fe_iHV1RDA3C"
      },
      "source": [
        "## Before you begin"
      ]
    },
    {
      "cell_type": "code",
      "execution_count": null,
      "metadata": {
        "cellView": "form",
        "id": "-nRhKI2hEpzn"
      },
      "outputs": [],
      "source": [
        "# @title Import packages and define common functions\n",
        "\n",
        "import datetime\n",
        "import importlib\n",
        "import io\n",
        "import json\n",
        "import os\n",
        "import uuid\n",
        "\n",
        "import numpy as np\n",
        "from google.cloud import aiplatform, storage\n",
        "from google.oauth2 import credentials\n",
        "from PIL import Image\n",
        "\n",
        "if not os.path.isdir(\"vertex-ai-samples\"):\n",
        "    ! git clone https://github.com/GoogleCloudPlatform/vertex-ai-samples.git\n",
        "\n",
        "common_util = importlib.import_module(\n",
        "    \"vertex-ai-samples.community-content.vertex_model_garden.model_oss.notebook_util.common_util\"\n",
        ")\n",
        "\n",
        "models, endpoints = {}, {}\n",
        "\n",
        "\n",
        "def download_gcs_image_bytes(gcs_uri, creds):\n",
        "    \"\"\"Download an image from Cloud Storage.\"\"\"\n",
        "    storage_client = storage.Client(credentials=creds)\n",
        "    blob = storage.blob.Blob.from_string(gcs_uri, client=storage_client)\n",
        "    return blob.download_as_bytes()"
      ]
    },
    {
      "cell_type": "code",
      "execution_count": null,
      "metadata": {
        "cellView": "form",
        "id": "2_aYhzoEDMCf"
      },
      "outputs": [],
      "source": [
        "# @title Set up Google Cloud project\n",
        "\n",
        "# @markdown 1. [Make sure that billing is enabled for your project](https://cloud.google.com/billing/docs/how-to/modify-project).\n",
        "\n",
        "# @markdown 2. Make sure that you have the following required roles:\n",
        "# @markdown - [Storage Admin](https://cloud.google.com/iam/docs/understanding-roles#storage.admin) (`roles/storage.admin`) to create and use Cloud Storage buckets\n",
        "# @markdown - [Service Usage Admin](https://cloud.google.com/iam/docs/understanding-roles#serviceusage.serviceUsageAdmin) (`roles/serviceusage.serviceUsageAdmin`) to enable necessary APIs\n",
        "\n",
        "# @markdown 3. Set up a [Cloud Storage bucket](https://cloud.google.com/storage/docs/creating-buckets).\n",
        "# @markdown - A new bucket will be set up for you to store artifacts used in this notebook.\n",
        "# @markdown - [Optional] To use an existing bucket, specify the `gs://` bucket URI. The specified Cloud Storage bucket should be located in the same region as where the notebook was launched. Note that a multi-region bucket (e.g. \"us\") is not considered a match for a single region covered by the multi-region range (e.g. \"us-central1\").\n",
        "\n",
        "BUCKET_URI = \"\"  # @param {type:\"string\", placeholder:\"[Optional] Cloud Storage bucket URI\"}\n",
        "\n",
        "# The region will be set automatically according to the Colab Enterprise environment.\n",
        "REGION = \"\"\n",
        "\n",
        "\n",
        "# Get the default cloud project id.\n",
        "PROJECT_ID = os.environ[\"GOOGLE_CLOUD_PROJECT\"]\n",
        "\n",
        "# Get the default region for launching jobs.\n",
        "if not REGION:\n",
        "    REGION = os.environ[\"GOOGLE_CLOUD_REGION\"]\n",
        "\n",
        "# Enable the Vertex AI API and Compute Engine API, if not already.\n",
        "print(\"Enabling Vertex AI API and Compute Engine API.\")\n",
        "! gcloud services enable aiplatform.googleapis.com compute.googleapis.com\n",
        "\n",
        "# Cloud Storage bucket for storing the experiment artifacts.\n",
        "# A unique GCS bucket will be created for the purpose of this notebook. If you\n",
        "# prefer using your own GCS bucket, change the value yourself below.\n",
        "now = datetime.datetime.now().strftime(\"%Y%m%d%H%M%S\")\n",
        "BUCKET_NAME = \"/\".join(BUCKET_URI.split(\"/\")[:3])\n",
        "\n",
        "if BUCKET_URI is None or BUCKET_URI.strip() == \"\" or BUCKET_URI == \"gs://\":\n",
        "    BUCKET_URI = f\"gs://{PROJECT_ID}-tmp-{now}-{str(uuid.uuid4())[:4]}\"\n",
        "    BUCKET_NAME = \"/\".join(BUCKET_URI.split(\"/\")[:3])\n",
        "    ! gsutil mb -l {REGION} {BUCKET_URI}\n",
        "else:\n",
        "    assert BUCKET_URI.startswith(\"gs://\"), \"BUCKET_URI must start with `gs://`.\"\n",
        "    shell_output = ! gsutil ls -Lb {BUCKET_NAME} | grep \"Location constraint:\" | sed \"s/Location constraint://\"\n",
        "    bucket_region = shell_output[0].strip().lower()\n",
        "    if bucket_region != REGION:\n",
        "        raise ValueError(\n",
        "            \"Bucket region %s is different from notebook region %s\"\n",
        "            % (bucket_region, REGION)\n",
        "        )\n",
        "print(f\"Using this GCS Bucket: {BUCKET_URI}\")\n",
        "\n",
        "STAGING_BUCKET = os.path.join(BUCKET_URI, \"temporal\")\n",
        "MODEL_BUCKET = os.path.join(BUCKET_URI, \"derm-foundation\")\n",
        "\n",
        "\n",
        "# Initialize Vertex AI API.\n",
        "print(\"Initializing Vertex AI API.\")\n",
        "aiplatform.init(project=PROJECT_ID, location=REGION, staging_bucket=STAGING_BUCKET)\n",
        "\n",
        "# Gets the default SERVICE_ACCOUNT.\n",
        "shell_output = ! gcloud projects describe $PROJECT_ID\n",
        "project_number = shell_output[-1].split(\":\")[1].strip().replace(\"'\", \"\")\n",
        "SERVICE_ACCOUNT = f\"{project_number}-compute@developer.gserviceaccount.com\"\n",
        "print(\"Using this default Service Account:\", SERVICE_ACCOUNT)\n",
        "\n",
        "\n",
        "# Provision permissions to the SERVICE_ACCOUNT with the GCS bucket\n",
        "! gsutil iam ch serviceAccount:{SERVICE_ACCOUNT}:roles/storage.admin $BUCKET_NAME\n",
        "\n",
        "! gcloud config set project $PROJECT_ID\n",
        "! gcloud projects add-iam-policy-binding --no-user-output-enabled {PROJECT_ID} --member=serviceAccount:{SERVICE_ACCOUNT} --role=\"roles/storage.admin\"\n",
        "! gcloud projects add-iam-policy-binding --no-user-output-enabled {PROJECT_ID} --member=serviceAccount:{SERVICE_ACCOUNT} --role=\"roles/aiplatform.user\""
      ]
    },
    {
      "cell_type": "markdown",
      "metadata": {
        "id": "DpGxMQxndGcG"
      },
      "source": [
        "## Get online predictions"
      ]
    },
    {
      "cell_type": "code",
      "execution_count": null,
      "metadata": {
        "cellView": "form",
        "id": "55wdOLrEK8kg"
      },
      "outputs": [],
      "source": [
        "# @title #### Import deployed model\n",
        "\n",
        "# @markdown To get [online predictions](https://cloud.google.com/vertex-ai/docs/predictions/get-online-predictions), you will need a Derm Foundation [Vertex AI Endpoint](https://cloud.google.com/vertex-ai/docs/general/deployment) that has been deployed from Model Garden. If you have not already done so, go to the [Derm Foundation model card](https://console.cloud.google.com/vertex-ai/publishers/google/model-garden/derm-foundation) in Model Garden and click \"Deploy\" to deploy the model.\n",
        "\n",
        "# @markdown This section gets the Vertex AI Endpoint resource that you deployed from Model Garden to use for online predictions.\n",
        "\n",
        "# @markdown Fill in the endpoint ID and region below. You can find your deployed endpoint on the [Vertex AI online prediction page](https://console.cloud.google.com/vertex-ai/online-prediction/endpoints).\n",
        "\n",
        "ENDPOINT_ID = \"\"  # @param {type: \"string\", placeholder:\"e.g. 123456789\"}\n",
        "ENDPOINT_REGION = \"\"  # @param {type: \"string\", placeholder:\"e.g. us-central1\"}\n",
        "\n",
        "endpoints[\"endpoint\"] = aiplatform.Endpoint(\n",
        "    endpoint_name=ENDPOINT_ID,\n",
        "    project=PROJECT_ID,\n",
        "    location=ENDPOINT_REGION,\n",
        ")"
      ]
    },
    {
      "cell_type": "markdown",
      "metadata": {
        "id": "5487N3VQxqi_"
      },
      "source": [
        "### Predict\n",
        "\n",
        "You can send [online prediction](https://cloud.google.com/vertex-ai/docs/predictions/get-online-predictions) requests to the endpoint with dermatological images to generate embeddings.\n",
        "\n",
        "The following examples illustrate how to use Derm Foundation to generate embeddings from:\n",
        "\n",
        "* An image file stored in [Cloud Storage](https://cloud.google.com/storage/docs)\n",
        "* Base64-encoded image bytes"
      ]
    },
    {
      "cell_type": "code",
      "execution_count": null,
      "metadata": {
        "cellView": "form",
        "id": "trU5YDBEHwn-"
      },
      "outputs": [],
      "source": [
        "# @title #### Generate an embedding from an image in Cloud Storage\n",
        "\n",
        "# @markdown This section shows an example of generating an embedding using an image from the [SCIN Dataset](https://github.com/google-research-datasets/scin) that is stored in Cloud Storage.\n",
        "\n",
        "# @markdown The prediction request instance contains the following fields:\n",
        "# @markdown - `gcs_uri`: `gs://` URI specifying the location of an image file stored in Cloud Storage\n",
        "# @markdown - `bearer_token`: Bearer token used to access data in Cloud Storage (optional for public buckets)\n",
        "\n",
        "# @markdown You can replace `GCS_URI` below to use your own data.\n",
        "\n",
        "# @markdown Click \"Show Code\" to see more details.\n",
        "\n",
        "GCS_URI = \"gs://dx-scin-public-data/dataset/images/-1010754336982699838.png\"  # @param {type:\"string\", placeholder:\"Cloud Storage file URI\"}\n",
        "\n",
        "bearer_token = ! gcloud auth print-access-token\n",
        "bearer_token = bearer_token[0]\n",
        "\n",
        "creds = credentials.Credentials(token=bearer_token)\n",
        "img = Image.open(io.BytesIO(download_gcs_image_bytes(GCS_URI, creds)))\n",
        "display(img)\n",
        "instances = [\n",
        "    {\n",
        "        \"gcs_uri\": GCS_URI,\n",
        "        \"bearer_token\": bearer_token,\n",
        "    },\n",
        "]\n",
        "\n",
        "response = endpoints[\"endpoint\"].predict(instances=instances)\n",
        "predictions = response.predictions\n",
        "\n",
        "embedding_vector = np.array(predictions[0][\"embedding\"]).flatten()\n",
        "print(\"Size of embedding vector:\", len(embedding_vector))"
      ]
    },
    {
      "cell_type": "code",
      "execution_count": null,
      "metadata": {
        "cellView": "form",
        "id": "Om6EWZ6Bxf0Q"
      },
      "outputs": [],
      "source": [
        "# @title #### Generate an embedding from image bytes\n",
        "\n",
        "# @markdown This section shows an example of generating an embedding using an image from the [SCIN Dataset](https://github.com/google-research-datasets/scin) that is downloaded as image bytes.\n",
        "\n",
        "# @markdown The prediction request instance contains the following field:\n",
        "# @markdown - `input_bytes`: Base-64 encoded image bytes\n",
        "\n",
        "# @markdown Click \"Show Code\" to see more details.\n",
        "\n",
        "image_url = \"https://storage.googleapis.com/dx-scin-public-data/dataset/images/-1010754336982699838.png\"\n",
        "img = common_util.download_image(image_url)\n",
        "display(img)\n",
        "instances = [{\"input_bytes\": common_util.image_to_base64(img)}]\n",
        "\n",
        "response = endpoints[\"endpoint\"].predict(instances=instances)\n",
        "predictions = response.predictions\n",
        "\n",
        "embedding_vector = np.array(predictions[0][\"embedding\"]).flatten()\n",
        "print(\"Size of embedding vector:\", len(embedding_vector))"
      ]
    },
    {
      "cell_type": "markdown",
      "metadata": {
        "id": "4GjsXPnATk2B"
      },
      "source": [
        "## Get batch predictions"
      ]
    },
    {
      "cell_type": "code",
      "execution_count": null,
      "metadata": {
        "cellView": "form",
        "id": "9A6-24lJVM8Y"
      },
      "outputs": [],
      "source": [
        "# @title Upload model to Vertex AI Model Registry\n",
        "\n",
        "# @markdown To get [batch predictions](https://cloud.google.com/vertex-ai/docs/predictions/get-batch-predictions), you must first upload the prebuilt Derm Foundation model to [Vertex AI Model Registry](https://cloud.google.com/vertex-ai/docs/model-registry/introduction). Batch predictions are made directly on a model in Model Registry without deploying to an endpoint.\n",
        "\n",
        "MODEL_ID = \"derm-foundation\"\n",
        "MODEL_ARTIFACT_URI = \"gs://vertex-model-garden-restricted-us/derm-foundation\"\n",
        "\n",
        "# The pre-built serving docker image.\n",
        "SERVE_DOCKER_URI = \"us-docker.pkg.dev/deeplearning-platform-release/vertex-model-garden/health-ai-derm-foundation.cpu.1-0.ubuntu2004.py312.tf218:20241118-1537-rc0\"\n",
        "\n",
        "\n",
        "def upload_model(model_name: str, artifact_uri: str) -> aiplatform.Model:\n",
        "    model = aiplatform.Model.upload(\n",
        "        display_name=model_name,\n",
        "        artifact_uri=artifact_uri,\n",
        "        serving_container_image_uri=SERVE_DOCKER_URI,\n",
        "        serving_container_ports=[8080],\n",
        "        serving_container_predict_route=\"/predict\",\n",
        "        serving_container_health_route=\"/health\",\n",
        "    )\n",
        "    return model\n",
        "\n",
        "\n",
        "models[\"model\"] = upload_model(\n",
        "    model_name=common_util.get_job_name_with_datetime(prefix=MODEL_ID),\n",
        "    artifact_uri=MODEL_ARTIFACT_URI,\n",
        ")"
      ]
    },
    {
      "cell_type": "markdown",
      "metadata": {
        "id": "72ZyqSb0pBvP"
      },
      "source": [
        "### Predict\n",
        "\n",
        "You can send [batch prediction requests](https://cloud.google.com/vertex-ai/docs/predictions/get-batch-predictions#request_a_batch_prediction) to the model using a [JSON Lines](https://jsonlines.org/) file to specify a list of input instances with dermatological images to generate embeddings.\n",
        "\n",
        "The following examples illustrate how to use Derm Foundation to generate embeddings in batch from:\n",
        "\n",
        "* An image stored in [Cloud Storage](https://cloud.google.com/storage/docs)\n",
        "* Base64-encoded image bytes"
      ]
    },
    {
      "cell_type": "code",
      "execution_count": null,
      "metadata": {
        "cellView": "form",
        "id": "-5BC3KlAJXtj"
      },
      "outputs": [],
      "source": [
        "# @title #### Generate embeddings in batch from images in Cloud Storage\n",
        "\n",
        "# @markdown This section shows an example of generating embeddings in batch using images from the [SCIN Dataset](https://github.com/google-research-datasets/scin) that is stored in Cloud Storage.\n",
        "\n",
        "# @markdown Each line in the input JSON Lines file is a prediction request instance that contains the following field:\n",
        "# @markdown - `gcs_uri`: `gs://` URI specifying the location of an image file stored in Cloud Storage\n",
        "\n",
        "# @markdown You can replace `GCS_URIS` below use your own data.\n",
        "\n",
        "# @markdown **Note:** The custom service account used to launch the batch prediction job must have permission to read the data from Cloud Storage.\n",
        "\n",
        "# @markdown Click \"Show Code\" to see more details.\n",
        "\n",
        "# Comma-separated list of Cloud Storage URIs\n",
        "GCS_URIS = \"gs://dx-scin-public-data/dataset/images/-1013653802423257870.png,gs://dx-scin-public-data/dataset/images/-106355051564979815.png\"  # @param {type:\"string\", placeholder:\"Comma-separated list of Cloud Storage file URIs\"}\n",
        "\n",
        "gcs_uris_list = GCS_URIS.split(\",\")\n",
        "batch_predict_instances = [{\"gcs_uri\": uri} for uri in gcs_uris_list]\n",
        "\n",
        "# Write instances to JSON Lines file\n",
        "os.makedirs(\"batch_predict_input\", exist_ok=True)\n",
        "instances_filename = \"gcs_instances.jsonl\"\n",
        "with open(f\"batch_predict_input/{instances_filename}\", \"w\") as f:\n",
        "    for line in batch_predict_instances:\n",
        "        json_str = json.dumps(line)\n",
        "        f.write(json_str)\n",
        "        f.write(\"\\n\")\n",
        "\n",
        "# Copy the file to Cloud Storage\n",
        "batch_predict_prefix = f\"batch-predict-{MODEL_ID}\"\n",
        "! gcloud storage cp ./batch_predict_input/{instances_filename} {STAGING_BUCKET}/{batch_predict_prefix}/input/{instances_filename}\n",
        "\n",
        "batch_predict_job_name = common_util.get_job_name_with_datetime(\n",
        "    prefix=f\"batch-predict-{MODEL_ID}\"\n",
        ")\n",
        "\n",
        "gcs_batch_predict_job = models[\"model\"].batch_predict(\n",
        "    job_display_name=batch_predict_job_name,\n",
        "    gcs_source=os.path.join(\n",
        "        STAGING_BUCKET, batch_predict_prefix, f\"input/{instances_filename}\"\n",
        "    ),\n",
        "    gcs_destination_prefix=os.path.join(STAGING_BUCKET, batch_predict_prefix, \"output\"),\n",
        "    machine_type=\"n1-standard-8\",\n",
        "    service_account=SERVICE_ACCOUNT,\n",
        ")\n",
        "\n",
        "gcs_batch_predict_job.wait()\n",
        "\n",
        "print(gcs_batch_predict_job.display_name)\n",
        "print(gcs_batch_predict_job.resource_name)\n",
        "print(gcs_batch_predict_job.state)"
      ]
    },
    {
      "cell_type": "code",
      "execution_count": null,
      "metadata": {
        "cellView": "form",
        "id": "i2CQ0rfUqahC"
      },
      "outputs": [],
      "source": [
        "# @title #### Generate embeddings in batch from image bytes\n",
        "\n",
        "# @markdown This section shows an example of generating embeddings in batch using an image from the [SCIN Dataset](https://github.com/google-research-datasets/scin) that is downloaded as image bytes.\n",
        "\n",
        "# @markdown Each line in the input JSON Lines file is a prediction request instance that contains the following field:\n",
        "# @markdown - `input_bytes`: Base-64 encoded image bytes\n",
        "\n",
        "# @markdown Click \"Show Code\" to see more details.\n",
        "\n",
        "image_urls = [\n",
        "    \"https://storage.googleapis.com/dx-scin-public-data/dataset/images/-1013653802423257870.png\",\n",
        "    \"https://storage.googleapis.com/dx-scin-public-data/dataset/images/-106355051564979815.png\",\n",
        "]\n",
        "batch_predict_instances = []\n",
        "for image_url in image_urls:\n",
        "    img = common_util.download_image(image_url)\n",
        "    batch_predict_instances.append(\n",
        "        {\"input_bytes\": common_util.image_to_base64(img, \"PNG\")}\n",
        "    )\n",
        "\n",
        "# Write instances to JSON Lines file\n",
        "os.makedirs(\"batch_predict_input\", exist_ok=True)\n",
        "instances_filename = \"bytes_instances.jsonl\"\n",
        "with open(f\"batch_predict_input/{instances_filename}\", \"w\") as f:\n",
        "    for line in batch_predict_instances:\n",
        "        json_str = json.dumps(line)\n",
        "        f.write(json_str)\n",
        "        f.write(\"\\n\")\n",
        "\n",
        "# Copy the file to Cloud Storage\n",
        "batch_predict_prefix = f\"batch-predict-{MODEL_ID}\"\n",
        "! gcloud storage cp ./batch_predict_input/{instances_filename} {STAGING_BUCKET}/{batch_predict_prefix}/input/{instances_filename}\n",
        "\n",
        "batch_predict_job_name = common_util.get_job_name_with_datetime(\n",
        "    prefix=f\"batch-predict-{MODEL_ID}\"\n",
        ")\n",
        "\n",
        "bytes_batch_predict_job = models[\"model\"].batch_predict(\n",
        "    job_display_name=batch_predict_job_name,\n",
        "    gcs_source=os.path.join(\n",
        "        STAGING_BUCKET, batch_predict_prefix, f\"input/{instances_filename}\"\n",
        "    ),\n",
        "    gcs_destination_prefix=os.path.join(STAGING_BUCKET, batch_predict_prefix, \"output\"),\n",
        "    machine_type=\"n1-highmem-8\",\n",
        "    service_account=SERVICE_ACCOUNT,\n",
        ")\n",
        "\n",
        "bytes_batch_predict_job.wait()\n",
        "\n",
        "print(bytes_batch_predict_job.display_name)\n",
        "print(bytes_batch_predict_job.resource_name)\n",
        "print(bytes_batch_predict_job.state)"
      ]
    },
    {
      "cell_type": "code",
      "execution_count": null,
      "metadata": {
        "cellView": "form",
        "id": "NhAN2phRSlL0"
      },
      "outputs": [],
      "source": [
        "# @title #### Get prediction results\n",
        "\n",
        "# @markdown Once the batch prediction job succeeds, you can [retrieve the results](https://cloud.google.com/vertex-ai/docs/predictions/get-batch-predictions#retrieve_batch_prediction_results)\n",
        "# @markdown from the JSON Lines file(s) in the output Cloud Storage location.\n",
        "\n",
        "# @markdown Click \"Show Code\" to see more details.\n",
        "\n",
        "\n",
        "def download_gcs_files_as_json(gcs_files_prefix):\n",
        "    \"\"\"Download specified files from Cloud Storage and convert content to JSON.\"\"\"\n",
        "    lines = []\n",
        "    client = storage.Client()\n",
        "    bucket = storage.bucket.Bucket.from_string(BUCKET_URI, client)\n",
        "    blobs = bucket.list_blobs(prefix=gcs_files_prefix)\n",
        "    for blob in blobs:\n",
        "        with blob.open(\"r\") as f:\n",
        "            for line in f:\n",
        "                lines.append(json.loads(line))\n",
        "    return lines\n",
        "\n",
        "\n",
        "# Get results from the first batch prediction job (with Cloud Storage inputs)\n",
        "# You can replace this variable to get results from another batch prediction job\n",
        "batch_predict_job = gcs_batch_predict_job\n",
        "batch_predict_output_dir = batch_predict_job.output_info.gcs_output_directory\n",
        "batch_predict_output_files_prefix = os.path.join(\n",
        "    batch_predict_output_dir.replace(f\"{BUCKET_URI}/\", \"\"), \"prediction.results\"\n",
        ")\n",
        "batch_predict_results = download_gcs_files_as_json(\n",
        "    gcs_files_prefix=batch_predict_output_files_prefix\n",
        ")\n",
        "\n",
        "# Display first two batch prediction results\n",
        "for i, line in enumerate(batch_predict_results[:2]):\n",
        "    embedding_vector = np.array(line[\"prediction\"][\"embedding\"]).flatten()\n",
        "    print(\"Size of embedding vector:\", len(embedding_vector))"
      ]
    },
    {
      "cell_type": "markdown",
      "metadata": {
        "id": "ZFRiJ2o_LhoE"
      },
      "source": [
        "## Next steps\n",
        "\n",
        "Explore the other [notebooks](https://github.com/google-health/derm-foundation/blob/master/notebooks) to learn what else you can do with the model."
      ]
    },
    {
      "cell_type": "markdown",
      "metadata": {
        "id": "rQMUmDYr6O_O"
      },
      "source": [
        "## Clean up resources"
      ]
    },
    {
      "cell_type": "code",
      "execution_count": null,
      "metadata": {
        "cellView": "form",
        "id": "iOSY_r6mHYui"
      },
      "outputs": [],
      "source": [
        "# @markdown  Delete the experiment models and endpoints to recycle the resources\n",
        "# @markdown  and avoid unnecessary continuous charges that may incur.\n",
        "\n",
        "# Undeploy model and delete endpoint.\n",
        "for endpoint in endpoints.values():\n",
        "    endpoint.delete(force=True)\n",
        "\n",
        "# Delete models.\n",
        "for model in models.values():\n",
        "    model.delete()\n",
        "\n",
        "delete_bucket = False  # @param {type:\"boolean\"}\n",
        "if delete_bucket:\n",
        "    ! gsutil -m rm -r $BUCKET_NAME"
      ]
    }
  ],
  "metadata": {
    "colab": {
      "name": "quick_start_with_model_garden.ipynb",
      "toc_visible": true
    },
    "kernelspec": {
      "display_name": "Python 3",
      "name": "python3"
    }
  },
  "nbformat": 4,
  "nbformat_minor": 0
}
